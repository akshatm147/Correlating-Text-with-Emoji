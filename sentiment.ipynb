{
 "cells": [
  {
   "cell_type": "markdown",
   "metadata": {},
   "source": [
    "# Emoji Prediction\n",
    "\n",
    "## Team Members:\n",
    "    -Akshat Maheshwari (20161024)\n",
    "    -Kalpit Pokra (20161134)\n",
    "    -Kushagra Nagori (20161032)\n",
    "    -Kartik Garg (20161219)\n",
    "    \n",
    "In this part of the project, we have used the word vector representations to build the emoji predictor.\n",
    "\n",
    "The dataset we have used for this part is: [Link](https://github.com/acashmkj/twitter-sentiment-analysis/tree/master/data)\n",
    "\n",
    "Along with that, we have used the CLDR codes of the emojis and the emoji python library to print the emoji."
   ]
  },
  {
   "cell_type": "code",
   "execution_count": 1,
   "metadata": {},
   "outputs": [],
   "source": [
    "import numpy as np\n",
    "from emo_utils import *\n",
    "import emoji\n",
    "import matplotlib.pyplot as plt\n",
    "\n",
    "%matplotlib inline"
   ]
  },
  {
   "cell_type": "code",
   "execution_count": 2,
   "metadata": {},
   "outputs": [],
   "source": [
    "X_train, Y_train = read_csv('data/train_emoji.csv')\n",
    "X_test, Y_test = read_csv('data/tess.csv')"
   ]
  },
  {
   "cell_type": "code",
   "execution_count": 3,
   "metadata": {},
   "outputs": [],
   "source": [
    "maxLen = len(max(X_train, key=len).split())"
   ]
  },
  {
   "cell_type": "code",
   "execution_count": 4,
   "metadata": {},
   "outputs": [
    {
     "name": "stdout",
     "output_type": "stream",
     "text": [
      "It is the worst day in my life 😞\n"
     ]
    }
   ],
   "source": [
    "index = 2\n",
    "print(X_train[index], label_to_emoji(Y_train[index]))"
   ]
  },
  {
   "cell_type": "markdown",
   "metadata": {},
   "source": [
    "In this part, we are converting the training and testing labels into One-Hot Vectors, so that it is suitable for training the models."
   ]
  },
  {
   "cell_type": "code",
   "execution_count": 5,
   "metadata": {},
   "outputs": [],
   "source": [
    "# 24 is used, since we have 24 kinds of emojis in the emoji dictionary.\n",
    "\n",
    "Y_oh_train = convert_to_one_hot(Y_train, C = 24)\n",
    "Y_oh_test = convert_to_one_hot(Y_test, C = 24)"
   ]
  },
  {
   "cell_type": "code",
   "execution_count": 6,
   "metadata": {},
   "outputs": [
    {
     "name": "stdout",
     "output_type": "stream",
     "text": [
      "0 is converted into one hot [1. 0. 0. 0. 0. 0. 0. 0. 0. 0. 0. 0. 0. 0. 0. 0. 0. 0. 0. 0. 0. 0. 0. 0.]\n"
     ]
    }
   ],
   "source": [
    "index = 50\n",
    "print(Y_train[index], \"is converted into one hot\", Y_oh_train[index])"
   ]
  },
  {
   "cell_type": "markdown",
   "metadata": {},
   "source": [
    "The first step is to convert an input sentence into the word vector representation, which then get averaged together. We will use the 50-dimensional GloVe embeddings ([Link](https://nlp.stanford.edu/projects/glove/))."
   ]
  },
  {
   "cell_type": "code",
   "execution_count": 9,
   "metadata": {},
   "outputs": [],
   "source": [
    "word_to_index, word_to_vec_map = read_glove_vecs('data/glove.6B.50d.txt')"
   ]
  },
  {
   "cell_type": "markdown",
   "metadata": {},
   "source": [
    "- `word_to_index`: dictionary mapping from words to their indices in the vocabulary (400,001 words, with the valid indices ranging from 0 to 400,000)\n",
    "- `word_to_vec_map`: dictionary mapping words to their GloVe vector representation."
   ]
  },
  {
   "cell_type": "code",
   "execution_count": 10,
   "metadata": {},
   "outputs": [],
   "source": [
    "def sentence_to_avg(sentence, word_to_vec_map):\n",
    "    words = [word.lower() for word in sentence.split(' ') if word != '']\n",
    "\n",
    "    avg = np.zeros(word_to_vec_map[\"cucumber\"].shape)\n",
    "    \n",
    "    for w in words:\n",
    "        if w in word_to_vec_map:\n",
    "            avg += word_to_vec_map[w]\n",
    "    avg = avg / float(len(words))\n",
    "    \n",
    "    return avg"
   ]
  },
  {
   "cell_type": "code",
   "execution_count": 11,
   "metadata": {
    "scrolled": true
   },
   "outputs": [
    {
     "name": "stdout",
     "output_type": "stream",
     "text": [
      "avg =  [-0.152426    0.36657333  0.25175683 -0.20969533  0.47594378 -0.25841217\n",
      " -0.378095   -0.40567833 -0.37233333  0.1440341   0.04078167 -0.00905833\n",
      " -0.418224    0.16384267  0.44825333  0.03722667 -0.28598     0.77520833\n",
      " -0.26075567  0.02292833  0.26706017  0.64319333  0.10002667  0.39073167\n",
      "  0.66011667 -1.84776667 -0.58223    -0.32355167  0.01468667 -0.19120767\n",
      "  3.09491667 -0.11282833 -0.42566167 -0.58604833 -0.168337   -0.01603667\n",
      "  0.12241     0.47339833  0.53444333 -0.19619633  0.17200412 -0.1731205\n",
      " -0.1347615   0.55248033  0.08167183  0.10617     0.30711833  0.077814\n",
      "  0.06971373  0.56611667]\n"
     ]
    }
   ],
   "source": [
    "avg = sentence_to_avg(\"I am a computer science student\", word_to_vec_map)\n",
    "print(\"avg = \", avg)"
   ]
  },
  {
   "cell_type": "code",
   "execution_count": 12,
   "metadata": {},
   "outputs": [],
   "source": [
    "def model(X, Y, word_to_vec_map, learning_rate = 0.01, num_iterations = 1000):\n",
    "    train_len, num_classes, glove_dims = Y.shape[0], 24, 50\n",
    "    \n",
    "    W = np.random.randn(num_classes, glove_dims) / np.sqrt(glove_dims)\n",
    "    b = np.zeros((num_classes,))\n",
    "    \n",
    "    Y_oh = convert_to_one_hot(Y, C = num_classes)\n",
    "    \n",
    "    for t in range(num_iterations):\n",
    "        for i in range(train_len):            \n",
    "            avg = sentence_to_avg(X[i], word_to_vec_map)\n",
    "\n",
    "            a = softmax(np.dot(W, avg) + b)\n",
    "\n",
    "            cost = -np.squeeze(np.sum(Y_oh[i] * np.log(a)))\n",
    "\n",
    "            db = dz = a - Y_oh[i]\n",
    "            dW = np.dot(dz.reshape(num_classes,1), avg.reshape(1, glove_dims))\n",
    "\n",
    "            W, b = W - learning_rate * dW, b - learning_rate * db \n",
    "        \n",
    "        if t % 100 == 0:\n",
    "            print(\"Epoch: \" + str(t) + \" --- cost = \" + str(cost))\n",
    "            pred = predict(X, Y, W, b, word_to_vec_map)\n",
    "\n",
    "    return pred, W, b"
   ]
  },
  {
   "cell_type": "code",
   "execution_count": 13,
   "metadata": {},
   "outputs": [
    {
     "name": "stdout",
     "output_type": "stream",
     "text": [
      "(132,)\n",
      "(132,)\n",
      "(132, 24)\n"
     ]
    }
   ],
   "source": [
    "print(X_train.shape)\n",
    "print(Y_train.shape)\n",
    "print(np.eye(24)[Y_train.reshape(-1)].shape)"
   ]
  },
  {
   "cell_type": "code",
   "execution_count": 14,
   "metadata": {
    "scrolled": true
   },
   "outputs": [
    {
     "name": "stdout",
     "output_type": "stream",
     "text": [
      "Epoch: 0 --- cost = 1.866309779547765\n",
      "Accuracy: 0.3712121212121212\n",
      "Epoch: 100 --- cost = 0.07613137446687505\n",
      "Accuracy: 0.9393939393939394\n",
      "Epoch: 200 --- cost = 0.0424311444212482\n",
      "Accuracy: 0.9621212121212122\n",
      "Epoch: 300 --- cost = 0.033237271100444075\n",
      "Accuracy: 0.9696969696969697\n",
      "Epoch: 400 --- cost = 0.028531902664182568\n",
      "Accuracy: 0.9772727272727273\n",
      "Epoch: 500 --- cost = 0.025418162614515485\n",
      "Accuracy: 0.9772727272727273\n",
      "Epoch: 600 --- cost = 0.023087824718426707\n",
      "Accuracy: 0.9772727272727273\n",
      "Epoch: 700 --- cost = 0.021224203056683228\n",
      "Accuracy: 0.9848484848484849\n",
      "Epoch: 800 --- cost = 0.019676644001174134\n",
      "Accuracy: 0.9848484848484849\n",
      "Epoch: 900 --- cost = 0.01836318965797257\n",
      "Accuracy: 0.9848484848484849\n",
      "[[3.]\n",
      " [2.]\n",
      " [3.]\n",
      " [0.]\n",
      " [4.]\n",
      " [0.]\n",
      " [3.]\n",
      " [2.]\n",
      " [3.]\n",
      " [1.]\n",
      " [3.]\n",
      " [3.]\n",
      " [1.]\n",
      " [3.]\n",
      " [2.]\n",
      " [3.]\n",
      " [2.]\n",
      " [3.]\n",
      " [1.]\n",
      " [2.]\n",
      " [3.]\n",
      " [0.]\n",
      " [2.]\n",
      " [2.]\n",
      " [2.]\n",
      " [1.]\n",
      " [4.]\n",
      " [3.]\n",
      " [2.]\n",
      " [4.]\n",
      " [0.]\n",
      " [3.]\n",
      " [4.]\n",
      " [2.]\n",
      " [0.]\n",
      " [3.]\n",
      " [2.]\n",
      " [2.]\n",
      " [3.]\n",
      " [4.]\n",
      " [2.]\n",
      " [2.]\n",
      " [0.]\n",
      " [2.]\n",
      " [3.]\n",
      " [0.]\n",
      " [3.]\n",
      " [2.]\n",
      " [4.]\n",
      " [3.]\n",
      " [0.]\n",
      " [3.]\n",
      " [3.]\n",
      " [3.]\n",
      " [4.]\n",
      " [2.]\n",
      " [1.]\n",
      " [1.]\n",
      " [1.]\n",
      " [2.]\n",
      " [3.]\n",
      " [1.]\n",
      " [0.]\n",
      " [0.]\n",
      " [0.]\n",
      " [3.]\n",
      " [4.]\n",
      " [4.]\n",
      " [2.]\n",
      " [2.]\n",
      " [1.]\n",
      " [2.]\n",
      " [0.]\n",
      " [3.]\n",
      " [2.]\n",
      " [2.]\n",
      " [0.]\n",
      " [0.]\n",
      " [3.]\n",
      " [1.]\n",
      " [2.]\n",
      " [1.]\n",
      " [2.]\n",
      " [2.]\n",
      " [4.]\n",
      " [3.]\n",
      " [3.]\n",
      " [2.]\n",
      " [4.]\n",
      " [0.]\n",
      " [0.]\n",
      " [3.]\n",
      " [3.]\n",
      " [3.]\n",
      " [3.]\n",
      " [2.]\n",
      " [0.]\n",
      " [1.]\n",
      " [2.]\n",
      " [3.]\n",
      " [0.]\n",
      " [2.]\n",
      " [2.]\n",
      " [2.]\n",
      " [3.]\n",
      " [2.]\n",
      " [2.]\n",
      " [2.]\n",
      " [4.]\n",
      " [1.]\n",
      " [1.]\n",
      " [3.]\n",
      " [3.]\n",
      " [4.]\n",
      " [1.]\n",
      " [2.]\n",
      " [1.]\n",
      " [1.]\n",
      " [3.]\n",
      " [1.]\n",
      " [0.]\n",
      " [4.]\n",
      " [0.]\n",
      " [3.]\n",
      " [3.]\n",
      " [4.]\n",
      " [4.]\n",
      " [1.]\n",
      " [4.]\n",
      " [3.]\n",
      " [0.]\n",
      " [2.]]\n"
     ]
    }
   ],
   "source": [
    "pred, W, b = model(X_train, Y_train, word_to_vec_map)\n",
    "print(pred)"
   ]
  },
  {
   "cell_type": "code",
   "execution_count": 15,
   "metadata": {
    "scrolled": false
   },
   "outputs": [
    {
     "name": "stdout",
     "output_type": "stream",
     "text": [
      "Training set:\n",
      "Accuracy: 0.9848484848484849\n",
      "Test set:\n",
      "Accuracy: 0.875\n"
     ]
    }
   ],
   "source": [
    "# Run the model on the training and the test set\n",
    "\n",
    "print(\"Training set:\")\n",
    "pred_train = predict(X_train, Y_train, W, b, word_to_vec_map)\n",
    "print('Test set:')\n",
    "pred_test = predict(X_test, Y_test, W, b, word_to_vec_map)"
   ]
  },
  {
   "cell_type": "markdown",
   "metadata": {},
   "source": [
    "Now random guessing on some sentences and checking it's validity manually"
   ]
  },
  {
   "cell_type": "code",
   "execution_count": 16,
   "metadata": {},
   "outputs": [
    {
     "name": "stdout",
     "output_type": "stream",
     "text": [
      "Accuracy: 1.0\n",
      "\n",
      "i adore you ❤\n",
      "i love you ❤\n",
      "funny lol 😄\n",
      "lets play with a ball ⚾\n",
      "food is ready 🍴\n",
      "not feeling happy 😞\n"
     ]
    }
   ],
   "source": [
    "X_my_sentences = np.array([\"i adore you\", \"i love you\", \"funny lol\", \"lets play with a ball\", \"food is ready\", \"not feeling happy\"])\n",
    "Y_my_labels = np.array([[0], [0], [2], [1], [4],[3]])\n",
    "\n",
    "pred = predict(X_my_sentences, Y_my_labels , W, b, word_to_vec_map)\n",
    "print_predictions(X_my_sentences, pred)"
   ]
  },
  {
   "cell_type": "code",
   "execution_count": 17,
   "metadata": {},
   "outputs": [
    {
     "name": "stdout",
     "output_type": "stream",
     "text": [
      "(56,)\n",
      "           ❤    ⚾    😄    😞   🍴\n",
      "Predicted  0.0  1.0  2.0  3.0  4.0  All\n",
      "Actual                                 \n",
      "0            6    0    0    1    0    7\n",
      "1            0    8    0    0    0    8\n",
      "2            1    0   16    2    0   19\n",
      "3            1    1    1   12    0   15\n",
      "4            0    0    0    0    7    7\n",
      "All          8    9   17   15    7   56\n"
     ]
    },
    {
     "data": {
      "image/png": "[encoded data removed]",
      "text/plain": [
       "<Figure size 288x288 with 2 Axes>"
      ]
     },
     "metadata": {
      "needs_background": "light"
     },
     "output_type": "display_data"
    }
   ],
   "source": [
    "print(Y_test.shape)\n",
    "print('           '+ label_to_emoji(0)+ '    ' + label_to_emoji(1) + '    ' +  label_to_emoji(2)+ '    ' + label_to_emoji(3)+'   ' + label_to_emoji(4))\n",
    "print(pd.crosstab(Y_test, pred_test.reshape(56,), rownames=['Actual'], colnames=['Predicted'], margins=True))\n",
    "plot_confusion_matrix(Y_test, pred_test)"
   ]
  },
  {
   "cell_type": "code",
   "execution_count": 18,
   "metadata": {},
   "outputs": [
    {
     "name": "stdout",
     "output_type": "stream",
     "text": [
      "I told you not to do that thing [3.]\n",
      "I love you [0.]\n",
      "I am mad at you [3.]\n",
      "i am very cheerful [2.]\n",
      "\n",
      "I told you not to do that thing 😞\n",
      "I love you ❤\n",
      "I am mad at you 😞\n",
      "i am very cheerful 😄\n"
     ]
    }
   ],
   "source": [
    "sent = np.array([\"I told you not to do that thing\", \"I love you\", \"I am mad at you\", \"i am very cheerful\"])\n",
    "pred = predict1(sent, W, b, word_to_vec_map)\n",
    "\n",
    "print_predictions(sent, pred)"
   ]
  },
  {
   "cell_type": "markdown",
   "metadata": {},
   "source": [
    "## Predicting Emojis for a sentence using LSTM\n",
    "\n",
    "LSTM is Long-Short-Term-Memory. As the name suggests, it takes into account the previous memory of the sequential flow of the input (sentence in this case). Now, due to this memory property, LSTM can be used for Sentiment Analysis."
   ]
  },
  {
   "cell_type": "code",
   "execution_count": 19,
   "metadata": {},
   "outputs": [
    {
     "name": "stderr",
     "output_type": "stream",
     "text": [
      "Using TensorFlow backend.\n"
     ]
    }
   ],
   "source": [
    "import numpy as np\n",
    "# np.random.seed(0)\n",
    "from keras.models import Model, Sequential\n",
    "from keras.layers import Dense, Input, Dropout, LSTM, Activation\n",
    "from keras.layers.embeddings import Embedding\n",
    "from keras.preprocessing import sequence\n",
    "from keras.initializers import glorot_uniform\n",
    "np.random.seed(1)"
   ]
  },
  {
   "cell_type": "code",
   "execution_count": 20,
   "metadata": {},
   "outputs": [],
   "source": [
    "def sentences_to_indices(X, word_to_index, max_len):\n",
    "    num_train = X.shape[0]\n",
    "    \n",
    "    X_indices = np.zeros((num_train, max_len))\n",
    "    \n",
    "    for i in range(num_train):\n",
    "        words = X[i].split(' ')\n",
    "        \n",
    "        \n",
    "        sentence_words = [word.lower().replace('\\t', '') for word in words if word.replace('\\t', '') != '']\n",
    "        \n",
    "        j = 0\n",
    "        \n",
    "        for w in sentence_words:\n",
    "            X_indices[i, j] = word_to_index[w]\n",
    "            j += 1\n",
    "    \n",
    "    return X_indices"
   ]
  },
  {
   "cell_type": "code",
   "execution_count": 21,
   "metadata": {},
   "outputs": [
    {
     "name": "stdout",
     "output_type": "stream",
     "text": [
      "X1 = ['funny lol' 'lets play baseball' 'food is ready for you']\n",
      "X1_indices = [[155345. 225122.      0.      0.      0.      0.      0.      0.      0.\n",
      "       0.      0.      0.      0.      0.      0.      0.      0.      0.\n",
      "       0.      0.      0.      0.      0.      0.]\n",
      " [220930. 286375.  69714.      0.      0.      0.      0.      0.      0.\n",
      "       0.      0.      0.      0.      0.      0.      0.      0.      0.\n",
      "       0.      0.      0.      0.      0.      0.]\n",
      " [151204. 192973. 302254. 151349. 394475.      0.      0.      0.      0.\n",
      "       0.      0.      0.      0.      0.      0.      0.      0.      0.\n",
      "       0.      0.      0.      0.      0.      0.]]\n"
     ]
    }
   ],
   "source": [
    "X1 = np.array([\"funny lol\", \"lets play baseball\", \"food is ready for you\"])\n",
    "X1_indices = sentences_to_indices(X1,word_to_index, max_len = 24)\n",
    "print(\"X1 =\", X1)\n",
    "print(\"X1_indices =\", X1_indices)"
   ]
  },
  {
   "cell_type": "code",
   "execution_count": 22,
   "metadata": {},
   "outputs": [],
   "source": [
    "def pretrained_embedding_layer(word_to_vec_map, word_to_index):\n",
    "    vocab_len, emb_dim = len(word_to_index) + 1, 50\n",
    "    \n",
    "    emb_matrix = np.zeros((vocab_len, emb_dim))\n",
    "    \n",
    "    for word, index in word_to_index.items():\n",
    "        emb_matrix[index, :] = word_to_vec_map[word]\n",
    "\n",
    "    embedding_layer = Embedding(vocab_len, emb_dim, trainable=False)\n",
    "    embedding_layer.build((None,))\n",
    "    \n",
    "    embedding_layer.set_weights([emb_matrix])\n",
    "    \n",
    "    return embedding_layer"
   ]
  },
  {
   "cell_type": "code",
   "execution_count": 23,
   "metadata": {},
   "outputs": [],
   "source": [
    "def Emojify_V2(input_shape, word_to_vec_map, word_to_index):    \n",
    "    sentence_indices = Input(shape=input_shape, dtype='int32')\n",
    "    \n",
    "    embedding_layer = pretrained_embedding_layer(word_to_vec_map, word_to_index)\n",
    "    \n",
    "    embeddings = embedding_layer(sentence_indices)\n",
    "    \n",
    "    X = LSTM(256, return_sequences=True)(embeddings)\n",
    "    X = Dropout(0.5)(X)\n",
    "\n",
    "    X = LSTM(128, return_sequences=False)(X)\n",
    "    X = Dropout(0.5)(X)\n",
    "\n",
    "    X = Dense(24, activation=None)(X)\n",
    "    X = Activation('softmax')(X)\n",
    "    \n",
    "    model = Model(inputs=[sentence_indices], outputs=X)\n",
    "    \n",
    "    return model"
   ]
  },
  {
   "cell_type": "code",
   "execution_count": 24,
   "metadata": {
    "scrolled": false
   },
   "outputs": [
    {
     "name": "stdout",
     "output_type": "stream",
     "text": [
      "_________________________________________________________________\n",
      "Layer (type)                 Output Shape              Param #   \n",
      "=================================================================\n",
      "input_1 (InputLayer)         (None, 10)                0         \n",
      "_________________________________________________________________\n",
      "embedding_1 (Embedding)      (None, 10, 50)            20000050  \n",
      "_________________________________________________________________\n",
      "lstm_1 (LSTM)                (None, 10, 256)           314368    \n",
      "_________________________________________________________________\n",
      "dropout_1 (Dropout)          (None, 10, 256)           0         \n",
      "_________________________________________________________________\n",
      "lstm_2 (LSTM)                (None, 128)               197120    \n",
      "_________________________________________________________________\n",
      "dropout_2 (Dropout)          (None, 128)               0         \n",
      "_________________________________________________________________\n",
      "dense_1 (Dense)              (None, 24)                3096      \n",
      "_________________________________________________________________\n",
      "activation_1 (Activation)    (None, 24)                0         \n",
      "=================================================================\n",
      "Total params: 20,514,634\n",
      "Trainable params: 514,584\n",
      "Non-trainable params: 20,000,050\n",
      "_________________________________________________________________\n"
     ]
    }
   ],
   "source": [
    "model = Emojify_V2((maxLen,), word_to_vec_map, word_to_index)\n",
    "model.summary()"
   ]
  },
  {
   "cell_type": "code",
   "execution_count": 25,
   "metadata": {},
   "outputs": [],
   "source": [
    "model.compile(loss='categorical_crossentropy', optimizer='adam', metrics=['accuracy'])"
   ]
  },
  {
   "cell_type": "code",
   "execution_count": 26,
   "metadata": {},
   "outputs": [],
   "source": [
    "X_train_indices = sentences_to_indices(X_train, word_to_index, maxLen)\n",
    "Y_train_oh = convert_to_one_hot(Y_train, C = 24)"
   ]
  },
  {
   "cell_type": "code",
   "execution_count": 27,
   "metadata": {
    "scrolled": true
   },
   "outputs": [
    {
     "name": "stdout",
     "output_type": "stream",
     "text": [
      "Epoch 1/200\n",
      "132/132 [==============================] - 3s 20ms/step - loss: 2.9748 - acc: 0.2652\n",
      "Epoch 2/200\n",
      "132/132 [==============================] - 0s 1ms/step - loss: 2.2014 - acc: 0.2879\n",
      "Epoch 3/200\n",
      "132/132 [==============================] - 0s 1ms/step - loss: 1.8438 - acc: 0.2652\n",
      "Epoch 4/200\n",
      "132/132 [==============================] - 0s 1ms/step - loss: 1.8213 - acc: 0.1970\n",
      "Epoch 5/200\n",
      "132/132 [==============================] - 0s 1ms/step - loss: 1.6975 - acc: 0.2348\n",
      "Epoch 6/200\n",
      "132/132 [==============================] - 0s 1ms/step - loss: 1.7122 - acc: 0.3106\n",
      "Epoch 7/200\n",
      "132/132 [==============================] - 0s 1ms/step - loss: 1.6701 - acc: 0.2803\n",
      "Epoch 8/200\n",
      "132/132 [==============================] - 0s 1ms/step - loss: 1.6388 - acc: 0.2652\n",
      "Epoch 9/200\n",
      "132/132 [==============================] - 0s 2ms/step - loss: 1.5227 - acc: 0.3258\n",
      "Epoch 10/200\n",
      "132/132 [==============================] - 0s 2ms/step - loss: 1.3812 - acc: 0.3788\n",
      "Epoch 11/200\n",
      "132/132 [==============================] - 0s 2ms/step - loss: 1.2665 - acc: 0.4318\n",
      "Epoch 12/200\n",
      "132/132 [==============================] - 0s 2ms/step - loss: 1.2531 - acc: 0.4621\n",
      "Epoch 13/200\n",
      "132/132 [==============================] - 0s 2ms/step - loss: 1.1981 - acc: 0.5000\n",
      "Epoch 14/200\n",
      "132/132 [==============================] - 0s 2ms/step - loss: 1.1317 - acc: 0.5909\n",
      "Epoch 15/200\n",
      "132/132 [==============================] - 0s 2ms/step - loss: 1.0239 - acc: 0.6136\n",
      "Epoch 16/200\n",
      "132/132 [==============================] - 0s 2ms/step - loss: 0.9521 - acc: 0.6288\n",
      "Epoch 17/200\n",
      "132/132 [==============================] - 0s 2ms/step - loss: 0.9604 - acc: 0.5833\n",
      "Epoch 18/200\n",
      "132/132 [==============================] - 0s 2ms/step - loss: 0.8557 - acc: 0.6894\n",
      "Epoch 19/200\n",
      "132/132 [==============================] - 0s 2ms/step - loss: 0.7786 - acc: 0.6970\n",
      "Epoch 20/200\n",
      "132/132 [==============================] - 0s 2ms/step - loss: 0.6522 - acc: 0.8409\n",
      "Epoch 21/200\n",
      "132/132 [==============================] - 0s 2ms/step - loss: 0.6033 - acc: 0.8106\n",
      "Epoch 22/200\n",
      "132/132 [==============================] - 0s 2ms/step - loss: 0.5857 - acc: 0.7955\n",
      "Epoch 23/200\n",
      "132/132 [==============================] - 0s 2ms/step - loss: 0.6615 - acc: 0.7803\n",
      "Epoch 24/200\n",
      "132/132 [==============================] - 0s 2ms/step - loss: 0.6516 - acc: 0.7500\n",
      "Epoch 25/200\n",
      "132/132 [==============================] - 0s 2ms/step - loss: 0.4932 - acc: 0.8182\n",
      "Epoch 26/200\n",
      "132/132 [==============================] - 0s 2ms/step - loss: 0.4419 - acc: 0.8409\n",
      "Epoch 27/200\n",
      "132/132 [==============================] - 0s 2ms/step - loss: 0.3978 - acc: 0.8258\n",
      "Epoch 28/200\n",
      "132/132 [==============================] - 0s 2ms/step - loss: 0.5523 - acc: 0.8030\n",
      "Epoch 29/200\n",
      "132/132 [==============================] - 0s 2ms/step - loss: 0.3675 - acc: 0.8864\n",
      "Epoch 30/200\n",
      "132/132 [==============================] - 0s 2ms/step - loss: 0.4676 - acc: 0.8485\n",
      "Epoch 31/200\n",
      "132/132 [==============================] - 0s 2ms/step - loss: 0.3123 - acc: 0.9015\n",
      "Epoch 32/200\n",
      "132/132 [==============================] - 0s 2ms/step - loss: 0.4693 - acc: 0.8561\n",
      "Epoch 33/200\n",
      "132/132 [==============================] - 0s 2ms/step - loss: 0.3053 - acc: 0.8939\n",
      "Epoch 34/200\n",
      "132/132 [==============================] - 0s 2ms/step - loss: 0.2340 - acc: 0.9015\n",
      "Epoch 35/200\n",
      "132/132 [==============================] - 0s 2ms/step - loss: 0.7040 - acc: 0.7652\n",
      "Epoch 36/200\n",
      "132/132 [==============================] - 0s 2ms/step - loss: 0.3667 - acc: 0.8712\n",
      "Epoch 37/200\n",
      "132/132 [==============================] - 0s 2ms/step - loss: 0.4223 - acc: 0.8561\n",
      "Epoch 38/200\n",
      "132/132 [==============================] - 0s 2ms/step - loss: 0.3182 - acc: 0.9091\n",
      "Epoch 39/200\n",
      "132/132 [==============================] - 0s 2ms/step - loss: 0.2582 - acc: 0.9318\n",
      "Epoch 40/200\n",
      "132/132 [==============================] - 0s 2ms/step - loss: 0.3181 - acc: 0.9091\n",
      "Epoch 41/200\n",
      "132/132 [==============================] - 0s 2ms/step - loss: 0.2068 - acc: 0.9318\n",
      "Epoch 42/200\n",
      "132/132 [==============================] - 0s 2ms/step - loss: 0.2047 - acc: 0.9470\n",
      "Epoch 43/200\n",
      "132/132 [==============================] - 0s 2ms/step - loss: 0.1481 - acc: 0.9545\n",
      "Epoch 44/200\n",
      "132/132 [==============================] - 0s 2ms/step - loss: 0.1984 - acc: 0.9394\n",
      "Epoch 45/200\n",
      "132/132 [==============================] - 0s 2ms/step - loss: 0.1107 - acc: 0.9697\n",
      "Epoch 46/200\n",
      "132/132 [==============================] - 0s 2ms/step - loss: 0.1250 - acc: 0.9697\n",
      "Epoch 47/200\n",
      "132/132 [==============================] - 0s 2ms/step - loss: 0.0749 - acc: 0.9848\n",
      "Epoch 48/200\n",
      "132/132 [==============================] - 0s 2ms/step - loss: 0.0755 - acc: 0.9848\n",
      "Epoch 49/200\n",
      "132/132 [==============================] - 0s 2ms/step - loss: 0.0865 - acc: 0.9848\n",
      "Epoch 50/200\n",
      "132/132 [==============================] - 0s 2ms/step - loss: 0.0931 - acc: 0.9697\n",
      "Epoch 51/200\n",
      "132/132 [==============================] - 0s 2ms/step - loss: 0.0693 - acc: 0.9773\n",
      "Epoch 52/200\n",
      "132/132 [==============================] - 0s 2ms/step - loss: 0.0597 - acc: 0.9924\n",
      "Epoch 53/200\n",
      "132/132 [==============================] - 0s 2ms/step - loss: 0.0812 - acc: 0.9773\n",
      "Epoch 54/200\n",
      "132/132 [==============================] - 0s 2ms/step - loss: 0.0651 - acc: 0.9773\n",
      "Epoch 55/200\n",
      "132/132 [==============================] - 0s 2ms/step - loss: 0.1339 - acc: 0.9697\n",
      "Epoch 56/200\n",
      "132/132 [==============================] - 0s 2ms/step - loss: 0.2471 - acc: 0.9394\n",
      "Epoch 57/200\n",
      "132/132 [==============================] - 0s 2ms/step - loss: 0.1786 - acc: 0.9545\n",
      "Epoch 58/200\n",
      "132/132 [==============================] - 0s 2ms/step - loss: 0.1002 - acc: 0.9621\n",
      "Epoch 59/200\n",
      "132/132 [==============================] - 0s 2ms/step - loss: 0.1063 - acc: 0.9697\n",
      "Epoch 60/200\n",
      "132/132 [==============================] - 0s 2ms/step - loss: 0.0747 - acc: 0.9773\n",
      "Epoch 61/200\n",
      "132/132 [==============================] - 0s 2ms/step - loss: 0.0908 - acc: 0.9773\n",
      "Epoch 62/200\n",
      "132/132 [==============================] - 0s 2ms/step - loss: 0.0522 - acc: 0.9848\n",
      "Epoch 63/200\n",
      "132/132 [==============================] - 0s 2ms/step - loss: 0.0624 - acc: 0.9848\n",
      "Epoch 64/200\n",
      "132/132 [==============================] - 0s 2ms/step - loss: 0.0403 - acc: 0.9848\n",
      "Epoch 65/200\n",
      "132/132 [==============================] - 0s 2ms/step - loss: 0.0377 - acc: 0.9924\n",
      "Epoch 66/200\n",
      "132/132 [==============================] - 0s 2ms/step - loss: 0.0376 - acc: 0.9924\n",
      "Epoch 67/200\n",
      "132/132 [==============================] - 0s 2ms/step - loss: 0.0341 - acc: 0.9924\n",
      "Epoch 68/200\n",
      "132/132 [==============================] - 0s 2ms/step - loss: 0.0317 - acc: 0.9848\n",
      "Epoch 69/200\n",
      "132/132 [==============================] - 0s 2ms/step - loss: 0.0200 - acc: 1.0000\n",
      "Epoch 70/200\n",
      "132/132 [==============================] - 0s 2ms/step - loss: 0.0128 - acc: 1.0000\n",
      "Epoch 71/200\n",
      "132/132 [==============================] - 0s 2ms/step - loss: 0.0142 - acc: 1.0000\n",
      "Epoch 72/200\n",
      "132/132 [==============================] - 0s 2ms/step - loss: 0.0426 - acc: 0.9848\n",
      "Epoch 73/200\n",
      "132/132 [==============================] - 0s 2ms/step - loss: 0.0106 - acc: 1.0000\n",
      "Epoch 74/200\n",
      "132/132 [==============================] - 0s 2ms/step - loss: 0.0092 - acc: 1.0000\n",
      "Epoch 75/200\n",
      "132/132 [==============================] - 0s 2ms/step - loss: 0.0573 - acc: 0.9924\n",
      "Epoch 76/200\n",
      "132/132 [==============================] - 0s 2ms/step - loss: 0.1677 - acc: 0.9697\n",
      "Epoch 77/200\n",
      "132/132 [==============================] - 0s 2ms/step - loss: 0.0310 - acc: 0.9924\n",
      "Epoch 78/200\n",
      "132/132 [==============================] - 0s 2ms/step - loss: 0.4996 - acc: 0.8485\n",
      "Epoch 79/200\n",
      "132/132 [==============================] - 0s 2ms/step - loss: 0.3155 - acc: 0.8939\n",
      "Epoch 80/200\n",
      "132/132 [==============================] - 0s 2ms/step - loss: 0.3254 - acc: 0.8788\n",
      "Epoch 81/200\n",
      "132/132 [==============================] - 0s 2ms/step - loss: 0.1727 - acc: 0.9545\n",
      "Epoch 82/200\n",
      "132/132 [==============================] - 0s 2ms/step - loss: 0.1121 - acc: 0.9621\n",
      "Epoch 83/200\n",
      "132/132 [==============================] - 0s 2ms/step - loss: 0.1075 - acc: 0.9697\n",
      "Epoch 84/200\n",
      "132/132 [==============================] - 0s 2ms/step - loss: 0.0842 - acc: 0.9773\n",
      "Epoch 85/200\n"
     ]
    },
    {
     "name": "stdout",
     "output_type": "stream",
     "text": [
      "132/132 [==============================] - 0s 2ms/step - loss: 0.0399 - acc: 1.0000\n",
      "Epoch 86/200\n",
      "132/132 [==============================] - 0s 2ms/step - loss: 0.0412 - acc: 0.9924\n",
      "Epoch 87/200\n",
      "132/132 [==============================] - 0s 2ms/step - loss: 0.0221 - acc: 1.0000\n",
      "Epoch 88/200\n",
      "132/132 [==============================] - 0s 2ms/step - loss: 0.0194 - acc: 1.0000\n",
      "Epoch 89/200\n",
      "132/132 [==============================] - 0s 2ms/step - loss: 0.0156 - acc: 1.0000\n",
      "Epoch 90/200\n",
      "132/132 [==============================] - 0s 2ms/step - loss: 0.0150 - acc: 1.0000\n",
      "Epoch 91/200\n",
      "132/132 [==============================] - 0s 2ms/step - loss: 0.0088 - acc: 1.0000\n",
      "Epoch 92/200\n",
      "132/132 [==============================] - 0s 2ms/step - loss: 0.0097 - acc: 1.0000\n",
      "Epoch 93/200\n",
      "132/132 [==============================] - 0s 2ms/step - loss: 0.0102 - acc: 1.0000\n",
      "Epoch 94/200\n",
      "132/132 [==============================] - 0s 2ms/step - loss: 0.0076 - acc: 1.0000\n",
      "Epoch 95/200\n",
      "132/132 [==============================] - 0s 2ms/step - loss: 0.0066 - acc: 1.0000\n",
      "Epoch 96/200\n",
      "132/132 [==============================] - 0s 2ms/step - loss: 0.0064 - acc: 1.0000\n",
      "Epoch 97/200\n",
      "132/132 [==============================] - 0s 2ms/step - loss: 0.0063 - acc: 1.0000\n",
      "Epoch 98/200\n",
      "132/132 [==============================] - 0s 2ms/step - loss: 0.0052 - acc: 1.0000\n",
      "Epoch 99/200\n",
      "132/132 [==============================] - 0s 2ms/step - loss: 0.0059 - acc: 1.0000\n",
      "Epoch 100/200\n",
      "132/132 [==============================] - 0s 2ms/step - loss: 0.0039 - acc: 1.0000\n",
      "Epoch 101/200\n",
      "132/132 [==============================] - 0s 2ms/step - loss: 0.0048 - acc: 1.0000\n",
      "Epoch 102/200\n",
      "132/132 [==============================] - 0s 2ms/step - loss: 0.0051 - acc: 1.0000\n",
      "Epoch 103/200\n",
      "132/132 [==============================] - 0s 2ms/step - loss: 0.0049 - acc: 1.0000\n",
      "Epoch 104/200\n",
      "132/132 [==============================] - 0s 2ms/step - loss: 0.0053 - acc: 1.0000\n",
      "Epoch 105/200\n",
      "132/132 [==============================] - 0s 2ms/step - loss: 0.0046 - acc: 1.0000\n",
      "Epoch 106/200\n",
      "132/132 [==============================] - 0s 2ms/step - loss: 0.0049 - acc: 1.0000\n",
      "Epoch 107/200\n",
      "132/132 [==============================] - 0s 2ms/step - loss: 0.0040 - acc: 1.0000\n",
      "Epoch 108/200\n",
      "132/132 [==============================] - 0s 2ms/step - loss: 0.0046 - acc: 1.0000\n",
      "Epoch 109/200\n",
      "132/132 [==============================] - 0s 2ms/step - loss: 0.0037 - acc: 1.0000\n",
      "Epoch 110/200\n",
      "132/132 [==============================] - 0s 2ms/step - loss: 0.0034 - acc: 1.0000\n",
      "Epoch 111/200\n",
      "132/132 [==============================] - 0s 2ms/step - loss: 0.0036 - acc: 1.0000\n",
      "Epoch 112/200\n",
      "132/132 [==============================] - 0s 2ms/step - loss: 0.0038 - acc: 1.0000\n",
      "Epoch 113/200\n",
      "132/132 [==============================] - 0s 2ms/step - loss: 0.0030 - acc: 1.0000\n",
      "Epoch 114/200\n",
      "132/132 [==============================] - 0s 2ms/step - loss: 0.0046 - acc: 1.0000\n",
      "Epoch 115/200\n",
      "132/132 [==============================] - 0s 2ms/step - loss: 0.0029 - acc: 1.0000\n",
      "Epoch 116/200\n",
      "132/132 [==============================] - 0s 2ms/step - loss: 0.0030 - acc: 1.0000\n",
      "Epoch 117/200\n",
      "132/132 [==============================] - 0s 2ms/step - loss: 0.0027 - acc: 1.0000\n",
      "Epoch 118/200\n",
      "132/132 [==============================] - 0s 2ms/step - loss: 0.0031 - acc: 1.0000\n",
      "Epoch 119/200\n",
      "132/132 [==============================] - 0s 2ms/step - loss: 0.0024 - acc: 1.0000\n",
      "Epoch 120/200\n",
      "132/132 [==============================] - 0s 2ms/step - loss: 0.0023 - acc: 1.0000\n",
      "Epoch 121/200\n",
      "132/132 [==============================] - 0s 2ms/step - loss: 0.0028 - acc: 1.0000\n",
      "Epoch 122/200\n",
      "132/132 [==============================] - 0s 2ms/step - loss: 0.0026 - acc: 1.0000\n",
      "Epoch 123/200\n",
      "132/132 [==============================] - 0s 3ms/step - loss: 0.0024 - acc: 1.0000\n",
      "Epoch 124/200\n",
      "132/132 [==============================] - 0s 2ms/step - loss: 0.0025 - acc: 1.0000\n",
      "Epoch 125/200\n",
      "132/132 [==============================] - 0s 2ms/step - loss: 0.0022 - acc: 1.0000\n",
      "Epoch 126/200\n",
      "132/132 [==============================] - 0s 3ms/step - loss: 0.0026 - acc: 1.0000\n",
      "Epoch 127/200\n",
      "132/132 [==============================] - 0s 3ms/step - loss: 0.0021 - acc: 1.0000\n",
      "Epoch 128/200\n",
      "132/132 [==============================] - 0s 2ms/step - loss: 0.0026 - acc: 1.0000\n",
      "Epoch 129/200\n",
      "132/132 [==============================] - 0s 2ms/step - loss: 0.0025 - acc: 1.0000\n",
      "Epoch 130/200\n",
      "132/132 [==============================] - 0s 2ms/step - loss: 0.0023 - acc: 1.0000\n",
      "Epoch 131/200\n",
      "132/132 [==============================] - 0s 2ms/step - loss: 0.0031 - acc: 1.0000\n",
      "Epoch 132/200\n",
      "132/132 [==============================] - 0s 2ms/step - loss: 0.0024 - acc: 1.0000\n",
      "Epoch 133/200\n",
      "132/132 [==============================] - 0s 3ms/step - loss: 0.0019 - acc: 1.0000\n",
      "Epoch 134/200\n",
      "132/132 [==============================] - 0s 2ms/step - loss: 0.0022 - acc: 1.0000\n",
      "Epoch 135/200\n",
      "132/132 [==============================] - 0s 2ms/step - loss: 0.0020 - acc: 1.0000\n",
      "Epoch 136/200\n",
      "132/132 [==============================] - 0s 2ms/step - loss: 0.0028 - acc: 1.0000\n",
      "Epoch 137/200\n",
      "132/132 [==============================] - 0s 2ms/step - loss: 0.0019 - acc: 1.0000\n",
      "Epoch 138/200\n",
      "132/132 [==============================] - 0s 2ms/step - loss: 0.0015 - acc: 1.0000\n",
      "Epoch 139/200\n",
      "132/132 [==============================] - 0s 2ms/step - loss: 0.0020 - acc: 1.0000\n",
      "Epoch 140/200\n",
      "132/132 [==============================] - 0s 2ms/step - loss: 0.0017 - acc: 1.0000\n",
      "Epoch 141/200\n",
      "132/132 [==============================] - 0s 2ms/step - loss: 0.0018 - acc: 1.0000\n",
      "Epoch 142/200\n",
      "132/132 [==============================] - 0s 2ms/step - loss: 0.0015 - acc: 1.0000\n",
      "Epoch 143/200\n",
      "132/132 [==============================] - 0s 2ms/step - loss: 0.0027 - acc: 1.0000\n",
      "Epoch 144/200\n",
      "132/132 [==============================] - 0s 2ms/step - loss: 0.0017 - acc: 1.0000\n",
      "Epoch 145/200\n",
      "132/132 [==============================] - 0s 2ms/step - loss: 0.0017 - acc: 1.0000\n",
      "Epoch 146/200\n",
      "132/132 [==============================] - 0s 2ms/step - loss: 0.0015 - acc: 1.0000\n",
      "Epoch 147/200\n",
      "132/132 [==============================] - 0s 2ms/step - loss: 0.0019 - acc: 1.0000\n",
      "Epoch 148/200\n",
      "132/132 [==============================] - 0s 2ms/step - loss: 0.0016 - acc: 1.0000\n",
      "Epoch 149/200\n",
      "132/132 [==============================] - 0s 2ms/step - loss: 0.0018 - acc: 1.0000\n",
      "Epoch 150/200\n",
      "132/132 [==============================] - 0s 2ms/step - loss: 0.0020 - acc: 1.0000\n",
      "Epoch 151/200\n",
      "132/132 [==============================] - 0s 2ms/step - loss: 0.0015 - acc: 1.0000\n",
      "Epoch 152/200\n",
      "132/132 [==============================] - 0s 2ms/step - loss: 0.0012 - acc: 1.0000\n",
      "Epoch 153/200\n",
      "132/132 [==============================] - 0s 2ms/step - loss: 0.0016 - acc: 1.0000\n",
      "Epoch 154/200\n",
      "132/132 [==============================] - 0s 2ms/step - loss: 0.0014 - acc: 1.0000\n",
      "Epoch 155/200\n",
      "132/132 [==============================] - 0s 2ms/step - loss: 0.0018 - acc: 1.0000\n",
      "Epoch 156/200\n",
      "132/132 [==============================] - 0s 2ms/step - loss: 0.0016 - acc: 1.0000\n",
      "Epoch 157/200\n",
      "132/132 [==============================] - 0s 2ms/step - loss: 0.0019 - acc: 1.0000\n",
      "Epoch 158/200\n",
      "132/132 [==============================] - 0s 2ms/step - loss: 0.0016 - acc: 1.0000\n",
      "Epoch 159/200\n",
      "132/132 [==============================] - 0s 2ms/step - loss: 0.0017 - acc: 1.0000\n",
      "Epoch 160/200\n",
      "132/132 [==============================] - 0s 2ms/step - loss: 0.0016 - acc: 1.0000\n",
      "Epoch 161/200\n",
      "132/132 [==============================] - 0s 2ms/step - loss: 0.0016 - acc: 1.0000\n",
      "Epoch 162/200\n",
      "132/132 [==============================] - 0s 2ms/step - loss: 0.0019 - acc: 1.0000\n",
      "Epoch 163/200\n",
      "132/132 [==============================] - 0s 2ms/step - loss: 0.0015 - acc: 1.0000\n",
      "Epoch 164/200\n",
      "132/132 [==============================] - 0s 2ms/step - loss: 0.0015 - acc: 1.0000\n",
      "Epoch 165/200\n",
      "132/132 [==============================] - 0s 2ms/step - loss: 0.0020 - acc: 1.0000\n",
      "Epoch 166/200\n",
      "132/132 [==============================] - 0s 2ms/step - loss: 0.0014 - acc: 1.0000\n",
      "Epoch 167/200\n",
      "132/132 [==============================] - 0s 2ms/step - loss: 0.0017 - acc: 1.0000\n",
      "Epoch 168/200\n"
     ]
    },
    {
     "name": "stdout",
     "output_type": "stream",
     "text": [
      "132/132 [==============================] - 0s 2ms/step - loss: 0.0018 - acc: 1.0000\n",
      "Epoch 169/200\n",
      "132/132 [==============================] - 0s 2ms/step - loss: 0.0017 - acc: 1.0000\n",
      "Epoch 170/200\n",
      "132/132 [==============================] - 0s 2ms/step - loss: 0.0025 - acc: 1.0000\n",
      "Epoch 171/200\n",
      "132/132 [==============================] - 0s 2ms/step - loss: 0.0010 - acc: 1.0000\n",
      "Epoch 172/200\n",
      "132/132 [==============================] - 0s 2ms/step - loss: 0.0013 - acc: 1.0000\n",
      "Epoch 173/200\n",
      "132/132 [==============================] - 0s 2ms/step - loss: 0.0011 - acc: 1.0000\n",
      "Epoch 174/200\n",
      "132/132 [==============================] - 0s 2ms/step - loss: 0.0013 - acc: 1.0000\n",
      "Epoch 175/200\n",
      "132/132 [==============================] - 0s 2ms/step - loss: 0.0013 - acc: 1.0000\n",
      "Epoch 176/200\n",
      "132/132 [==============================] - 0s 2ms/step - loss: 0.0013 - acc: 1.0000\n",
      "Epoch 177/200\n",
      "132/132 [==============================] - 0s 2ms/step - loss: 0.0012 - acc: 1.0000\n",
      "Epoch 178/200\n",
      "132/132 [==============================] - 0s 2ms/step - loss: 0.0011 - acc: 1.0000\n",
      "Epoch 179/200\n",
      "132/132 [==============================] - 0s 2ms/step - loss: 9.8602e-04 - acc: 1.0000\n",
      "Epoch 180/200\n",
      "132/132 [==============================] - 0s 2ms/step - loss: 0.0015 - acc: 1.0000\n",
      "Epoch 181/200\n",
      "132/132 [==============================] - 0s 2ms/step - loss: 0.0014 - acc: 1.0000\n",
      "Epoch 182/200\n",
      "132/132 [==============================] - 0s 2ms/step - loss: 0.0016 - acc: 1.0000\n",
      "Epoch 183/200\n",
      "132/132 [==============================] - 0s 2ms/step - loss: 0.0011 - acc: 1.0000\n",
      "Epoch 184/200\n",
      "132/132 [==============================] - 0s 2ms/step - loss: 0.0010 - acc: 1.0000\n",
      "Epoch 185/200\n",
      "132/132 [==============================] - 0s 2ms/step - loss: 0.0012 - acc: 1.0000\n",
      "Epoch 186/200\n",
      "132/132 [==============================] - 0s 2ms/step - loss: 0.0013 - acc: 1.0000\n",
      "Epoch 187/200\n",
      "132/132 [==============================] - 0s 2ms/step - loss: 7.9430e-04 - acc: 1.0000\n",
      "Epoch 188/200\n",
      "132/132 [==============================] - 0s 2ms/step - loss: 8.9722e-04 - acc: 1.0000\n",
      "Epoch 189/200\n",
      "132/132 [==============================] - 0s 2ms/step - loss: 0.0014 - acc: 1.0000\n",
      "Epoch 190/200\n",
      "132/132 [==============================] - 0s 2ms/step - loss: 0.0012 - acc: 1.0000\n",
      "Epoch 191/200\n",
      "132/132 [==============================] - 0s 2ms/step - loss: 0.0012 - acc: 1.0000\n",
      "Epoch 192/200\n",
      "132/132 [==============================] - 0s 2ms/step - loss: 0.0012 - acc: 1.0000\n",
      "Epoch 193/200\n",
      "132/132 [==============================] - 0s 2ms/step - loss: 8.9816e-04 - acc: 1.0000\n",
      "Epoch 194/200\n",
      "132/132 [==============================] - 0s 2ms/step - loss: 0.0013 - acc: 1.0000\n",
      "Epoch 195/200\n",
      "132/132 [==============================] - 0s 2ms/step - loss: 9.8988e-04 - acc: 1.0000\n",
      "Epoch 196/200\n",
      "132/132 [==============================] - 0s 2ms/step - loss: 0.0012 - acc: 1.0000\n",
      "Epoch 197/200\n",
      "132/132 [==============================] - 0s 2ms/step - loss: 0.0013 - acc: 1.0000\n",
      "Epoch 198/200\n",
      "132/132 [==============================] - 0s 2ms/step - loss: 0.0011 - acc: 1.0000\n",
      "Epoch 199/200\n",
      "132/132 [==============================] - 0s 2ms/step - loss: 0.0011 - acc: 1.0000\n",
      "Epoch 200/200\n",
      "132/132 [==============================] - 0s 2ms/step - loss: 0.0011 - acc: 1.0000\n"
     ]
    },
    {
     "data": {
      "text/plain": [
       "<keras.callbacks.History at 0x7f438cd62278>"
      ]
     },
     "execution_count": 27,
     "metadata": {},
     "output_type": "execute_result"
    }
   ],
   "source": [
    "model.fit(X_train_indices, Y_train_oh, epochs = 200, batch_size = 32, shuffle=True)"
   ]
  },
  {
   "cell_type": "code",
   "execution_count": 28,
   "metadata": {
    "scrolled": true
   },
   "outputs": [
    {
     "name": "stdout",
     "output_type": "stream",
     "text": [
      "56/56 [==============================] - 0s 6ms/step\n",
      "\n",
      "Test accuracy =  0.8392857228006635\n"
     ]
    }
   ],
   "source": [
    "X_test_indices = sentences_to_indices(X_test, word_to_index, max_len = maxLen)\n",
    "Y_test_oh = convert_to_one_hot(Y_test, C = 24)\n",
    "loss, acc = model.evaluate(X_test_indices, Y_test_oh)\n",
    "print()\n",
    "print(\"Test accuracy = \", acc)"
   ]
  },
  {
   "cell_type": "code",
   "execution_count": 29,
   "metadata": {},
   "outputs": [
    {
     "name": "stdout",
     "output_type": "stream",
     "text": [
      "prediction: not feeling happy😞\n",
      "prediction: i am hungry🍴\n",
      "prediction: I love you❤\n",
      "prediction: i adore you❤\n",
      "prediction: funny lol😄\n",
      "prediction: lets play with a ball⚾\n",
      "prediction: food is ready🍴\n"
     ]
    }
   ],
   "source": [
    "# Change the sentence below to see your prediction. Make sure all the words are in the Glove embeddings.  \n",
    "x_test = np.array(['not feeling happy', 'i am hungry', 'I love you', 'i adore you', \"funny lol\", \"lets play with a ball\", \"food is ready\"])\n",
    "X_test_indices = sentences_to_indices(x_test, word_to_index, maxLen)\n",
    "\n",
    "# pred = np\n",
    "\n",
    "# print(X_test_indices.shape)\n",
    "\n",
    "# for i in range(len(x_test)):\n",
    "#     print(x_test[i] +' '+  label_to_emoji(np.argmax(model.predict(X_test_indices[i]))))\n",
    "    \n",
    "pred = model.predict(X_test_indices)\n",
    "for i in range(len(x_test)):\n",
    "    x = X_test_indices\n",
    "    num = np.argmax(pred[i])\n",
    "#     if(num != Y_test[i]):\n",
    "    print('prediction: '+ x_test[i] + label_to_emoji(num).strip())"
   ]
  }
 ],
 "metadata": {
  "coursera": {
   "course_slug": "nlp-sequence-models",
   "graded_item_id": "RNnEs",
   "launcher_item_id": "acNYU"
  },
  "kernelspec": {
   "display_name": "Python 3",
   "language": "python",
   "name": "python3"
  },
  "language_info": {
   "codemirror_mode": {
    "name": "ipython",
    "version": 3
   },
   "file_extension": ".py",
   "mimetype": "text/x-python",
   "name": "python",
   "nbconvert_exporter": "python",
   "pygments_lexer": "ipython3",
   "version": "3.6.7"
  }
 },
 "nbformat": 4,
 "nbformat_minor": 2
}
